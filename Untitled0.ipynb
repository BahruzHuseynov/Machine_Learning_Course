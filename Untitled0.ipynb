{
  "nbformat": 4,
  "nbformat_minor": 0,
  "metadata": {
    "colab": {
      "provenance": [],
      "authorship_tag": "ABX9TyOt7b4TqjCnTABPJwbPt9ne",
      "include_colab_link": true
    },
    "kernelspec": {
      "name": "python3",
      "display_name": "Python 3"
    },
    "language_info": {
      "name": "python"
    },
    "accelerator": "GPU",
    "gpuClass": "standard"
  },
  "cells": [
    {
      "cell_type": "markdown",
      "metadata": {
        "id": "view-in-github",
        "colab_type": "text"
      },
      "source": [
        "<a href=\"https://colab.research.google.com/github/BahruzHuseynov/Machine_Learning_Course/blob/main/Untitled0.ipynb\" target=\"_parent\"><img src=\"https://colab.research.google.com/assets/colab-badge.svg\" alt=\"Open In Colab\"/></a>"
      ]
    },
    {
      "cell_type": "markdown",
      "source": [
        "<h1> 1. Import libraries and Read data </h1>"
      ],
      "metadata": {
        "id": "RPXIaMuYPCaK"
      }
    },
    {
      "cell_type": "code",
      "source": [
        "import pandas as pd\n",
        "import numpy as np\n",
        "import matplotlib.pyplot as plt"
      ],
      "metadata": {
        "id": "KOCEplE0PFDf"
      },
      "execution_count": null,
      "outputs": []
    },
    {
      "cell_type": "markdown",
      "source": [
        "Dataset:  https://archive.ics.uci.edu/ml/machine-learning-databases/magic/   <br> Dataset name:  magic.data <br>\n",
        "Other datasets:  https://archive.ics.uci.edu/ml/datasets/MAGIC+Gamma+Telescope\n",
        "<br>\n",
        "<hr>\n",
        "<b> Getting data from different file formats (url below): </b> <br>\n",
        "https://towardsdatascience.com/dont-download-read-datasets-with-url-in-python-8245a5eaa919 <br>\n",
        "- .zip  <br>\n",
        "- .rar  <br>\n",
        "- .data  <br>\n",
        "- .csv  <br>\n",
        "- .arff  <br>"
      ],
      "metadata": {
        "id": "9vh4oZqg8E67"
      }
    },
    {
      "cell_type": "code",
      "source": [
        "import requests\n",
        "\n",
        "url = \"https://archive.ics.uci.edu/ml/machine-learning-databases/magic/magic04.data\"\n",
        "cols = [\"fLength\",\"fWidth\",\"fSize\",\"fConc\",\"fConc1\",\"fAsym\",\"fM3Long\",\"fM3Trans\",\"fAlpha\",\"fDist\",\"class\"]\n",
        "df = pd.read_csv(url, names = cols)\n",
        "df.head()"
      ],
      "metadata": {
        "colab": {
          "base_uri": "https://localhost:8080/",
          "height": 206
        },
        "id": "1QF5WOCY59ND",
        "outputId": "f3cc8ab5-68d9-4ec9-beed-d67047de9152"
      },
      "execution_count": 20,
      "outputs": [
        {
          "output_type": "execute_result",
          "data": {
            "text/plain": [
              "    fLength    fWidth   fSize   fConc  fConc1     fAsym  fM3Long  fM3Trans  \\\n",
              "0   28.7967   16.0021  2.6449  0.3918  0.1982   27.7004  22.0110   -8.2027   \n",
              "1   31.6036   11.7235  2.5185  0.5303  0.3773   26.2722  23.8238   -9.9574   \n",
              "2  162.0520  136.0310  4.0612  0.0374  0.0187  116.7410 -64.8580  -45.2160   \n",
              "3   23.8172    9.5728  2.3385  0.6147  0.3922   27.2107  -6.4633   -7.1513   \n",
              "4   75.1362   30.9205  3.1611  0.3168  0.1832   -5.5277  28.5525   21.8393   \n",
              "\n",
              "    fAlpha     fDist class  \n",
              "0  40.0920   81.8828     g  \n",
              "1   6.3609  205.2610     g  \n",
              "2  76.9600  256.7880     g  \n",
              "3  10.4490  116.7370     g  \n",
              "4   4.6480  356.4620     g  "
            ],
            "text/html": [
              "\n",
              "  <div id=\"df-e5ec52bf-6194-4a6a-866e-e8583ceb279b\">\n",
              "    <div class=\"colab-df-container\">\n",
              "      <div>\n",
              "<style scoped>\n",
              "    .dataframe tbody tr th:only-of-type {\n",
              "        vertical-align: middle;\n",
              "    }\n",
              "\n",
              "    .dataframe tbody tr th {\n",
              "        vertical-align: top;\n",
              "    }\n",
              "\n",
              "    .dataframe thead th {\n",
              "        text-align: right;\n",
              "    }\n",
              "</style>\n",
              "<table border=\"1\" class=\"dataframe\">\n",
              "  <thead>\n",
              "    <tr style=\"text-align: right;\">\n",
              "      <th></th>\n",
              "      <th>fLength</th>\n",
              "      <th>fWidth</th>\n",
              "      <th>fSize</th>\n",
              "      <th>fConc</th>\n",
              "      <th>fConc1</th>\n",
              "      <th>fAsym</th>\n",
              "      <th>fM3Long</th>\n",
              "      <th>fM3Trans</th>\n",
              "      <th>fAlpha</th>\n",
              "      <th>fDist</th>\n",
              "      <th>class</th>\n",
              "    </tr>\n",
              "  </thead>\n",
              "  <tbody>\n",
              "    <tr>\n",
              "      <th>0</th>\n",
              "      <td>28.7967</td>\n",
              "      <td>16.0021</td>\n",
              "      <td>2.6449</td>\n",
              "      <td>0.3918</td>\n",
              "      <td>0.1982</td>\n",
              "      <td>27.7004</td>\n",
              "      <td>22.0110</td>\n",
              "      <td>-8.2027</td>\n",
              "      <td>40.0920</td>\n",
              "      <td>81.8828</td>\n",
              "      <td>g</td>\n",
              "    </tr>\n",
              "    <tr>\n",
              "      <th>1</th>\n",
              "      <td>31.6036</td>\n",
              "      <td>11.7235</td>\n",
              "      <td>2.5185</td>\n",
              "      <td>0.5303</td>\n",
              "      <td>0.3773</td>\n",
              "      <td>26.2722</td>\n",
              "      <td>23.8238</td>\n",
              "      <td>-9.9574</td>\n",
              "      <td>6.3609</td>\n",
              "      <td>205.2610</td>\n",
              "      <td>g</td>\n",
              "    </tr>\n",
              "    <tr>\n",
              "      <th>2</th>\n",
              "      <td>162.0520</td>\n",
              "      <td>136.0310</td>\n",
              "      <td>4.0612</td>\n",
              "      <td>0.0374</td>\n",
              "      <td>0.0187</td>\n",
              "      <td>116.7410</td>\n",
              "      <td>-64.8580</td>\n",
              "      <td>-45.2160</td>\n",
              "      <td>76.9600</td>\n",
              "      <td>256.7880</td>\n",
              "      <td>g</td>\n",
              "    </tr>\n",
              "    <tr>\n",
              "      <th>3</th>\n",
              "      <td>23.8172</td>\n",
              "      <td>9.5728</td>\n",
              "      <td>2.3385</td>\n",
              "      <td>0.6147</td>\n",
              "      <td>0.3922</td>\n",
              "      <td>27.2107</td>\n",
              "      <td>-6.4633</td>\n",
              "      <td>-7.1513</td>\n",
              "      <td>10.4490</td>\n",
              "      <td>116.7370</td>\n",
              "      <td>g</td>\n",
              "    </tr>\n",
              "    <tr>\n",
              "      <th>4</th>\n",
              "      <td>75.1362</td>\n",
              "      <td>30.9205</td>\n",
              "      <td>3.1611</td>\n",
              "      <td>0.3168</td>\n",
              "      <td>0.1832</td>\n",
              "      <td>-5.5277</td>\n",
              "      <td>28.5525</td>\n",
              "      <td>21.8393</td>\n",
              "      <td>4.6480</td>\n",
              "      <td>356.4620</td>\n",
              "      <td>g</td>\n",
              "    </tr>\n",
              "  </tbody>\n",
              "</table>\n",
              "</div>\n",
              "      <button class=\"colab-df-convert\" onclick=\"convertToInteractive('df-e5ec52bf-6194-4a6a-866e-e8583ceb279b')\"\n",
              "              title=\"Convert this dataframe to an interactive table.\"\n",
              "              style=\"display:none;\">\n",
              "        \n",
              "  <svg xmlns=\"http://www.w3.org/2000/svg\" height=\"24px\"viewBox=\"0 0 24 24\"\n",
              "       width=\"24px\">\n",
              "    <path d=\"M0 0h24v24H0V0z\" fill=\"none\"/>\n",
              "    <path d=\"M18.56 5.44l.94 2.06.94-2.06 2.06-.94-2.06-.94-.94-2.06-.94 2.06-2.06.94zm-11 1L8.5 8.5l.94-2.06 2.06-.94-2.06-.94L8.5 2.5l-.94 2.06-2.06.94zm10 10l.94 2.06.94-2.06 2.06-.94-2.06-.94-.94-2.06-.94 2.06-2.06.94z\"/><path d=\"M17.41 7.96l-1.37-1.37c-.4-.4-.92-.59-1.43-.59-.52 0-1.04.2-1.43.59L10.3 9.45l-7.72 7.72c-.78.78-.78 2.05 0 2.83L4 21.41c.39.39.9.59 1.41.59.51 0 1.02-.2 1.41-.59l7.78-7.78 2.81-2.81c.8-.78.8-2.07 0-2.86zM5.41 20L4 18.59l7.72-7.72 1.47 1.35L5.41 20z\"/>\n",
              "  </svg>\n",
              "      </button>\n",
              "      \n",
              "  <style>\n",
              "    .colab-df-container {\n",
              "      display:flex;\n",
              "      flex-wrap:wrap;\n",
              "      gap: 12px;\n",
              "    }\n",
              "\n",
              "    .colab-df-convert {\n",
              "      background-color: #E8F0FE;\n",
              "      border: none;\n",
              "      border-radius: 50%;\n",
              "      cursor: pointer;\n",
              "      display: none;\n",
              "      fill: #1967D2;\n",
              "      height: 32px;\n",
              "      padding: 0 0 0 0;\n",
              "      width: 32px;\n",
              "    }\n",
              "\n",
              "    .colab-df-convert:hover {\n",
              "      background-color: #E2EBFA;\n",
              "      box-shadow: 0px 1px 2px rgba(60, 64, 67, 0.3), 0px 1px 3px 1px rgba(60, 64, 67, 0.15);\n",
              "      fill: #174EA6;\n",
              "    }\n",
              "\n",
              "    [theme=dark] .colab-df-convert {\n",
              "      background-color: #3B4455;\n",
              "      fill: #D2E3FC;\n",
              "    }\n",
              "\n",
              "    [theme=dark] .colab-df-convert:hover {\n",
              "      background-color: #434B5C;\n",
              "      box-shadow: 0px 1px 3px 1px rgba(0, 0, 0, 0.15);\n",
              "      filter: drop-shadow(0px 1px 2px rgba(0, 0, 0, 0.3));\n",
              "      fill: #FFFFFF;\n",
              "    }\n",
              "  </style>\n",
              "\n",
              "      <script>\n",
              "        const buttonEl =\n",
              "          document.querySelector('#df-e5ec52bf-6194-4a6a-866e-e8583ceb279b button.colab-df-convert');\n",
              "        buttonEl.style.display =\n",
              "          google.colab.kernel.accessAllowed ? 'block' : 'none';\n",
              "\n",
              "        async function convertToInteractive(key) {\n",
              "          const element = document.querySelector('#df-e5ec52bf-6194-4a6a-866e-e8583ceb279b');\n",
              "          const dataTable =\n",
              "            await google.colab.kernel.invokeFunction('convertToInteractive',\n",
              "                                                     [key], {});\n",
              "          if (!dataTable) return;\n",
              "\n",
              "          const docLinkHtml = 'Like what you see? Visit the ' +\n",
              "            '<a target=\"_blank\" href=https://colab.research.google.com/notebooks/data_table.ipynb>data table notebook</a>'\n",
              "            + ' to learn more about interactive tables.';\n",
              "          element.innerHTML = '';\n",
              "          dataTable['output_type'] = 'display_data';\n",
              "          await google.colab.output.renderOutput(dataTable, element);\n",
              "          const docLink = document.createElement('div');\n",
              "          docLink.innerHTML = docLinkHtml;\n",
              "          element.appendChild(docLink);\n",
              "        }\n",
              "      </script>\n",
              "    </div>\n",
              "  </div>\n",
              "  "
            ]
          },
          "metadata": {},
          "execution_count": 20
        }
      ]
    },
    {
      "cell_type": "markdown",
      "source": [
        "After adding the dataset, we can see that there are no any column names. By searching the link given about the dataset:\n",
        "\n",
        "1. fLength: continuous # major axis of ellipse [mm]\n",
        "2. fWidth: continuous # minor axis of ellipse [mm]\n",
        "3. fSize: continuous # 10-log of sum of content of all pixels [in #phot]\n",
        "4. fConc: continuous # ratio of sum of two highest pixels over fSize [ratio]\n",
        "5. fConc1: continuous # ratio of highest pixel over fSize [ratio]\n",
        "6. fAsym: continuous # distance from highest pixel to center, projected onto major axis [mm]\n",
        "7. fM3Long: continuous # 3rd root of third moment along major axis [mm]\n",
        "8. fM3Trans: continuous # 3rd root of third moment along minor axis [mm]\n",
        "9. fAlpha: continuous # angle of major axis with vector to origin [deg]\n",
        "10. fDist: continuous # distance from origin to center of ellipse [mm]\n",
        "11. class: g,h # gamma (signal), hadron (background)"
      ],
      "metadata": {
        "id": "c2TPktFc8iLS"
      }
    },
    {
      "cell_type": "markdown",
      "source": [
        "<h1> 2. Data Preparation </h1>\n",
        "\n",
        "1.   Plot Analysis \n",
        "2.   Train, validation and test datasets\n",
        "3.   Scaling\n",
        "4.   Over-sampling\n",
        "\n",
        "\n",
        "\n"
      ],
      "metadata": {
        "id": "570tmLHcOZ3G"
      }
    },
    {
      "cell_type": "code",
      "source": [
        "df[\"class\"].unique()"
      ],
      "metadata": {
        "id": "yd55TYkL8dyC",
        "outputId": "f7604517-cd08-40d3-9ac4-9e18a1a0f90d",
        "colab": {
          "base_uri": "https://localhost:8080/"
        }
      },
      "execution_count": 21,
      "outputs": [
        {
          "output_type": "execute_result",
          "data": {
            "text/plain": [
              "array(['g', 'h'], dtype=object)"
            ]
          },
          "metadata": {},
          "execution_count": 21
        }
      ]
    },
    {
      "cell_type": "code",
      "source": [
        "# As it is easier to build a model based on numbers rather than strings, we will convert type of class into 0 and 1\n",
        "# g - 0 and h - 1\n",
        "\n",
        "def gh_to_01(x):\n",
        "  if x == \"g\": return 1\n",
        "  return 0\n",
        "\n",
        "data = df.copy()\n",
        "data[\"class\"] = data[\"class\"].apply(lambda x: gh_to_01(x))\n",
        "print(data.head())\n",
        "print(\"--------------------------------------------\")\n",
        "\n",
        "# Easy way\n",
        "df1 = df.copy()\n",
        "df1[\"class\"] = (df[\"class\"] == \"g\").astype(int)\n",
        "df1.head()"
      ],
      "metadata": {
        "id": "JE8kXCoL9kV4",
        "outputId": "ee1031c2-2b3f-4e84-e1ad-30d3d2564ed3",
        "colab": {
          "base_uri": "https://localhost:8080/",
          "height": 449
        }
      },
      "execution_count": 22,
      "outputs": [
        {
          "output_type": "stream",
          "name": "stdout",
          "text": [
            "    fLength    fWidth   fSize   fConc  fConc1     fAsym  fM3Long  fM3Trans  \\\n",
            "0   28.7967   16.0021  2.6449  0.3918  0.1982   27.7004  22.0110   -8.2027   \n",
            "1   31.6036   11.7235  2.5185  0.5303  0.3773   26.2722  23.8238   -9.9574   \n",
            "2  162.0520  136.0310  4.0612  0.0374  0.0187  116.7410 -64.8580  -45.2160   \n",
            "3   23.8172    9.5728  2.3385  0.6147  0.3922   27.2107  -6.4633   -7.1513   \n",
            "4   75.1362   30.9205  3.1611  0.3168  0.1832   -5.5277  28.5525   21.8393   \n",
            "\n",
            "    fAlpha     fDist  class  \n",
            "0  40.0920   81.8828      1  \n",
            "1   6.3609  205.2610      1  \n",
            "2  76.9600  256.7880      1  \n",
            "3  10.4490  116.7370      1  \n",
            "4   4.6480  356.4620      1  \n",
            "--------------------------------------------\n"
          ]
        },
        {
          "output_type": "execute_result",
          "data": {
            "text/plain": [
              "    fLength    fWidth   fSize   fConc  fConc1     fAsym  fM3Long  fM3Trans  \\\n",
              "0   28.7967   16.0021  2.6449  0.3918  0.1982   27.7004  22.0110   -8.2027   \n",
              "1   31.6036   11.7235  2.5185  0.5303  0.3773   26.2722  23.8238   -9.9574   \n",
              "2  162.0520  136.0310  4.0612  0.0374  0.0187  116.7410 -64.8580  -45.2160   \n",
              "3   23.8172    9.5728  2.3385  0.6147  0.3922   27.2107  -6.4633   -7.1513   \n",
              "4   75.1362   30.9205  3.1611  0.3168  0.1832   -5.5277  28.5525   21.8393   \n",
              "\n",
              "    fAlpha     fDist  class  \n",
              "0  40.0920   81.8828      1  \n",
              "1   6.3609  205.2610      1  \n",
              "2  76.9600  256.7880      1  \n",
              "3  10.4490  116.7370      1  \n",
              "4   4.6480  356.4620      1  "
            ],
            "text/html": [
              "\n",
              "  <div id=\"df-393a0b53-64a2-47d2-b5e7-c7a976c122aa\">\n",
              "    <div class=\"colab-df-container\">\n",
              "      <div>\n",
              "<style scoped>\n",
              "    .dataframe tbody tr th:only-of-type {\n",
              "        vertical-align: middle;\n",
              "    }\n",
              "\n",
              "    .dataframe tbody tr th {\n",
              "        vertical-align: top;\n",
              "    }\n",
              "\n",
              "    .dataframe thead th {\n",
              "        text-align: right;\n",
              "    }\n",
              "</style>\n",
              "<table border=\"1\" class=\"dataframe\">\n",
              "  <thead>\n",
              "    <tr style=\"text-align: right;\">\n",
              "      <th></th>\n",
              "      <th>fLength</th>\n",
              "      <th>fWidth</th>\n",
              "      <th>fSize</th>\n",
              "      <th>fConc</th>\n",
              "      <th>fConc1</th>\n",
              "      <th>fAsym</th>\n",
              "      <th>fM3Long</th>\n",
              "      <th>fM3Trans</th>\n",
              "      <th>fAlpha</th>\n",
              "      <th>fDist</th>\n",
              "      <th>class</th>\n",
              "    </tr>\n",
              "  </thead>\n",
              "  <tbody>\n",
              "    <tr>\n",
              "      <th>0</th>\n",
              "      <td>28.7967</td>\n",
              "      <td>16.0021</td>\n",
              "      <td>2.6449</td>\n",
              "      <td>0.3918</td>\n",
              "      <td>0.1982</td>\n",
              "      <td>27.7004</td>\n",
              "      <td>22.0110</td>\n",
              "      <td>-8.2027</td>\n",
              "      <td>40.0920</td>\n",
              "      <td>81.8828</td>\n",
              "      <td>1</td>\n",
              "    </tr>\n",
              "    <tr>\n",
              "      <th>1</th>\n",
              "      <td>31.6036</td>\n",
              "      <td>11.7235</td>\n",
              "      <td>2.5185</td>\n",
              "      <td>0.5303</td>\n",
              "      <td>0.3773</td>\n",
              "      <td>26.2722</td>\n",
              "      <td>23.8238</td>\n",
              "      <td>-9.9574</td>\n",
              "      <td>6.3609</td>\n",
              "      <td>205.2610</td>\n",
              "      <td>1</td>\n",
              "    </tr>\n",
              "    <tr>\n",
              "      <th>2</th>\n",
              "      <td>162.0520</td>\n",
              "      <td>136.0310</td>\n",
              "      <td>4.0612</td>\n",
              "      <td>0.0374</td>\n",
              "      <td>0.0187</td>\n",
              "      <td>116.7410</td>\n",
              "      <td>-64.8580</td>\n",
              "      <td>-45.2160</td>\n",
              "      <td>76.9600</td>\n",
              "      <td>256.7880</td>\n",
              "      <td>1</td>\n",
              "    </tr>\n",
              "    <tr>\n",
              "      <th>3</th>\n",
              "      <td>23.8172</td>\n",
              "      <td>9.5728</td>\n",
              "      <td>2.3385</td>\n",
              "      <td>0.6147</td>\n",
              "      <td>0.3922</td>\n",
              "      <td>27.2107</td>\n",
              "      <td>-6.4633</td>\n",
              "      <td>-7.1513</td>\n",
              "      <td>10.4490</td>\n",
              "      <td>116.7370</td>\n",
              "      <td>1</td>\n",
              "    </tr>\n",
              "    <tr>\n",
              "      <th>4</th>\n",
              "      <td>75.1362</td>\n",
              "      <td>30.9205</td>\n",
              "      <td>3.1611</td>\n",
              "      <td>0.3168</td>\n",
              "      <td>0.1832</td>\n",
              "      <td>-5.5277</td>\n",
              "      <td>28.5525</td>\n",
              "      <td>21.8393</td>\n",
              "      <td>4.6480</td>\n",
              "      <td>356.4620</td>\n",
              "      <td>1</td>\n",
              "    </tr>\n",
              "  </tbody>\n",
              "</table>\n",
              "</div>\n",
              "      <button class=\"colab-df-convert\" onclick=\"convertToInteractive('df-393a0b53-64a2-47d2-b5e7-c7a976c122aa')\"\n",
              "              title=\"Convert this dataframe to an interactive table.\"\n",
              "              style=\"display:none;\">\n",
              "        \n",
              "  <svg xmlns=\"http://www.w3.org/2000/svg\" height=\"24px\"viewBox=\"0 0 24 24\"\n",
              "       width=\"24px\">\n",
              "    <path d=\"M0 0h24v24H0V0z\" fill=\"none\"/>\n",
              "    <path d=\"M18.56 5.44l.94 2.06.94-2.06 2.06-.94-2.06-.94-.94-2.06-.94 2.06-2.06.94zm-11 1L8.5 8.5l.94-2.06 2.06-.94-2.06-.94L8.5 2.5l-.94 2.06-2.06.94zm10 10l.94 2.06.94-2.06 2.06-.94-2.06-.94-.94-2.06-.94 2.06-2.06.94z\"/><path d=\"M17.41 7.96l-1.37-1.37c-.4-.4-.92-.59-1.43-.59-.52 0-1.04.2-1.43.59L10.3 9.45l-7.72 7.72c-.78.78-.78 2.05 0 2.83L4 21.41c.39.39.9.59 1.41.59.51 0 1.02-.2 1.41-.59l7.78-7.78 2.81-2.81c.8-.78.8-2.07 0-2.86zM5.41 20L4 18.59l7.72-7.72 1.47 1.35L5.41 20z\"/>\n",
              "  </svg>\n",
              "      </button>\n",
              "      \n",
              "  <style>\n",
              "    .colab-df-container {\n",
              "      display:flex;\n",
              "      flex-wrap:wrap;\n",
              "      gap: 12px;\n",
              "    }\n",
              "\n",
              "    .colab-df-convert {\n",
              "      background-color: #E8F0FE;\n",
              "      border: none;\n",
              "      border-radius: 50%;\n",
              "      cursor: pointer;\n",
              "      display: none;\n",
              "      fill: #1967D2;\n",
              "      height: 32px;\n",
              "      padding: 0 0 0 0;\n",
              "      width: 32px;\n",
              "    }\n",
              "\n",
              "    .colab-df-convert:hover {\n",
              "      background-color: #E2EBFA;\n",
              "      box-shadow: 0px 1px 2px rgba(60, 64, 67, 0.3), 0px 1px 3px 1px rgba(60, 64, 67, 0.15);\n",
              "      fill: #174EA6;\n",
              "    }\n",
              "\n",
              "    [theme=dark] .colab-df-convert {\n",
              "      background-color: #3B4455;\n",
              "      fill: #D2E3FC;\n",
              "    }\n",
              "\n",
              "    [theme=dark] .colab-df-convert:hover {\n",
              "      background-color: #434B5C;\n",
              "      box-shadow: 0px 1px 3px 1px rgba(0, 0, 0, 0.15);\n",
              "      filter: drop-shadow(0px 1px 2px rgba(0, 0, 0, 0.3));\n",
              "      fill: #FFFFFF;\n",
              "    }\n",
              "  </style>\n",
              "\n",
              "      <script>\n",
              "        const buttonEl =\n",
              "          document.querySelector('#df-393a0b53-64a2-47d2-b5e7-c7a976c122aa button.colab-df-convert');\n",
              "        buttonEl.style.display =\n",
              "          google.colab.kernel.accessAllowed ? 'block' : 'none';\n",
              "\n",
              "        async function convertToInteractive(key) {\n",
              "          const element = document.querySelector('#df-393a0b53-64a2-47d2-b5e7-c7a976c122aa');\n",
              "          const dataTable =\n",
              "            await google.colab.kernel.invokeFunction('convertToInteractive',\n",
              "                                                     [key], {});\n",
              "          if (!dataTable) return;\n",
              "\n",
              "          const docLinkHtml = 'Like what you see? Visit the ' +\n",
              "            '<a target=\"_blank\" href=https://colab.research.google.com/notebooks/data_table.ipynb>data table notebook</a>'\n",
              "            + ' to learn more about interactive tables.';\n",
              "          element.innerHTML = '';\n",
              "          dataTable['output_type'] = 'display_data';\n",
              "          await google.colab.output.renderOutput(dataTable, element);\n",
              "          const docLink = document.createElement('div');\n",
              "          docLink.innerHTML = docLinkHtml;\n",
              "          element.appendChild(docLink);\n",
              "        }\n",
              "      </script>\n",
              "    </div>\n",
              "  </div>\n",
              "  "
            ]
          },
          "metadata": {},
          "execution_count": 22
        }
      ]
    },
    {
      "cell_type": "code",
      "source": [
        "for label in cols[:-1]:\n",
        "  plt.hist(df1[df1[\"class\"] == 1][label], color=\"red\", label=\"gamma\", alpha=0.7, density=True)\n",
        "  plt.hist(df1[df1[\"class\"] == 0][label], color=\"yellow\", label=\"hadron\", alpha=0.7, density=True)\n",
        "  plt.title(label)\n",
        "  plt.ylabel(\"Probability\")\n",
        "  plt.xlabel(\"label\")\n",
        "  plt.legend()\n",
        "  plt.show()"
      ],
      "metadata": {
        "id": "dgytLpsG-nMJ",
        "outputId": "0c9d90e7-f9ee-4d00-e50b-49fdae1df8a9",
        "colab": {
          "base_uri": "https://localhost:8080/",
          "height": 1000
        }
      },
      "execution_count": 23,
      "outputs": [
        {
          "output_type": "display_data",
          "data": {
            "text/plain": [
              "<Figure size 432x288 with 1 Axes>"
            ],
            "image/png": "[encoded data removed]"
          },
          "metadata": {
            "needs_background": "light"
          }
        },
        {
          "output_type": "display_data",
          "data": {
            "text/plain": [
              "<Figure size 432x288 with 1 Axes>"
            ],
            "image/png": "[encoded data removed]"
          },
          "metadata": {
            "needs_background": "light"
          }
        },
        {
          "output_type": "display_data",
          "data": {
            "text/plain": [
              "<Figure size 432x288 with 1 Axes>"
            ],
            "image/png": "[encoded data removed]"
          },
          "metadata": {
            "needs_background": "light"
          }
        },
        {
          "output_type": "display_data",
          "data": {
            "text/plain": [
              "<Figure size 432x288 with 1 Axes>"
            ],
            "image/png": "[encoded data removed]"
          },
          "metadata": {
            "needs_background": "light"
          }
        },
        {
          "output_type": "display_data",
          "data": {
            "text/plain": [
              "<Figure size 432x288 with 1 Axes>"
            ],
            "image/png": "[encoded data removed]"
          },
          "metadata": {
            "needs_background": "light"
          }
        },
        {
          "output_type": "display_data",
          "data": {
            "text/plain": [
              "<Figure size 432x288 with 1 Axes>"
            ],
            "image/png": "[encoded data removed]"
          },
          "metadata": {
            "needs_background": "light"
          }
        },
        {
          "output_type": "display_data",
          "data": {
            "text/plain": [
              "<Figure size 432x288 with 1 Axes>"
            ],
            "image/png": "[encoded data removed]"
          },
          "metadata": {
            "needs_background": "light"
          }
        },
        {
          "output_type": "display_data",
          "data": {
            "text/plain": [
              "<Figure size 432x288 with 1 Axes>"
            ],
            "image/png": "[encoded data removed]"
          },
          "metadata": {
            "needs_background": "light"
          }
        },
        {
          "output_type": "display_data",
          "data": {
            "text/plain": [
              "<Figure size 432x288 with 1 Axes>"
            ],
            "image/png": "[encoded data removed]"
          },
          "metadata": {
            "needs_background": "light"
          }
        },
        {
          "output_type": "display_data",
          "data": {
            "text/plain": [
              "<Figure size 432x288 with 1 Axes>"
            ],
            "image/png": "[encoded data removed]"
          },
          "metadata": {
            "needs_background": "light"
          }
        }
      ]
    },
    {
      "cell_type": "markdown",
      "source": [
        "# **Train, validation and test**"
      ],
      "metadata": {
        "id": "r0Fqo8kcIoCe"
      }
    },
    {
      "cell_type": "code",
      "source": [
        "# DataFrame.sample() -- https://www.w3resource.com/pandas/dataframe/dataframe-sample.php#:~:text=DataFrame%20%2D%20sample()%20function,Description\n",
        "# Frac is used to return mixed dataset\n",
        "\n",
        "# Separating dataset into train, validation and test datasets\n",
        "train, validation, test = np.split(df1.sample(frac=1), [int(0.8*len(df1)), int(0.9*len(df1))])"
      ],
      "metadata": {
        "id": "6p4f8Ivl_l1U"
      },
      "execution_count": 24,
      "outputs": []
    },
    {
      "cell_type": "code",
      "source": [
        "train.head()"
      ],
      "metadata": {
        "colab": {
          "base_uri": "https://localhost:8080/",
          "height": 206
        },
        "id": "ithoxzSH2acv",
        "outputId": "345d519d-0c96-4e10-9437-1edf88ddd65c"
      },
      "execution_count": 25,
      "outputs": [
        {
          "output_type": "execute_result",
          "data": {
            "text/plain": [
              "       fLength   fWidth   fSize   fConc  fConc1    fAsym  fM3Long  fM3Trans  \\\n",
              "5629   35.3734  18.3628  2.8215  0.2624  0.1425   2.3372  25.8782   13.0370   \n",
              "16832  42.4352  17.7240  2.7828  0.3083  0.1558 -25.8828 -26.6386  -10.6891   \n",
              "9570   21.3167  15.0827  2.6010  0.4511  0.2343   1.9166 -10.1243   -9.9299   \n",
              "18847  41.8902  19.1267  2.9120  0.3491  0.1929  58.3412  -9.5757    9.5459   \n",
              "9263   60.1777  22.4696  3.1116  0.2042  0.1071  79.6533  44.1507   14.2770   \n",
              "\n",
              "        fAlpha    fDist  class  \n",
              "5629   41.7470  139.644      1  \n",
              "16832  32.1443  222.614      0  \n",
              "9570    4.7988  160.485      1  \n",
              "18847  42.6890  168.732      0  \n",
              "9263    1.8770  246.783      1  "
            ],
            "text/html": [
              "\n",
              "  <div id=\"df-2fc3b9d9-8344-4adf-904b-64fbf7a89973\">\n",
              "    <div class=\"colab-df-container\">\n",
              "      <div>\n",
              "<style scoped>\n",
              "    .dataframe tbody tr th:only-of-type {\n",
              "        vertical-align: middle;\n",
              "    }\n",
              "\n",
              "    .dataframe tbody tr th {\n",
              "        vertical-align: top;\n",
              "    }\n",
              "\n",
              "    .dataframe thead th {\n",
              "        text-align: right;\n",
              "    }\n",
              "</style>\n",
              "<table border=\"1\" class=\"dataframe\">\n",
              "  <thead>\n",
              "    <tr style=\"text-align: right;\">\n",
              "      <th></th>\n",
              "      <th>fLength</th>\n",
              "      <th>fWidth</th>\n",
              "      <th>fSize</th>\n",
              "      <th>fConc</th>\n",
              "      <th>fConc1</th>\n",
              "      <th>fAsym</th>\n",
              "      <th>fM3Long</th>\n",
              "      <th>fM3Trans</th>\n",
              "      <th>fAlpha</th>\n",
              "      <th>fDist</th>\n",
              "      <th>class</th>\n",
              "    </tr>\n",
              "  </thead>\n",
              "  <tbody>\n",
              "    <tr>\n",
              "      <th>5629</th>\n",
              "      <td>35.3734</td>\n",
              "      <td>18.3628</td>\n",
              "      <td>2.8215</td>\n",
              "      <td>0.2624</td>\n",
              "      <td>0.1425</td>\n",
              "      <td>2.3372</td>\n",
              "      <td>25.8782</td>\n",
              "      <td>13.0370</td>\n",
              "      <td>41.7470</td>\n",
              "      <td>139.644</td>\n",
              "      <td>1</td>\n",
              "    </tr>\n",
              "    <tr>\n",
              "      <th>16832</th>\n",
              "      <td>42.4352</td>\n",
              "      <td>17.7240</td>\n",
              "      <td>2.7828</td>\n",
              "      <td>0.3083</td>\n",
              "      <td>0.1558</td>\n",
              "      <td>-25.8828</td>\n",
              "      <td>-26.6386</td>\n",
              "      <td>-10.6891</td>\n",
              "      <td>32.1443</td>\n",
              "      <td>222.614</td>\n",
              "      <td>0</td>\n",
              "    </tr>\n",
              "    <tr>\n",
              "      <th>9570</th>\n",
              "      <td>21.3167</td>\n",
              "      <td>15.0827</td>\n",
              "      <td>2.6010</td>\n",
              "      <td>0.4511</td>\n",
              "      <td>0.2343</td>\n",
              "      <td>1.9166</td>\n",
              "      <td>-10.1243</td>\n",
              "      <td>-9.9299</td>\n",
              "      <td>4.7988</td>\n",
              "      <td>160.485</td>\n",
              "      <td>1</td>\n",
              "    </tr>\n",
              "    <tr>\n",
              "      <th>18847</th>\n",
              "      <td>41.8902</td>\n",
              "      <td>19.1267</td>\n",
              "      <td>2.9120</td>\n",
              "      <td>0.3491</td>\n",
              "      <td>0.1929</td>\n",
              "      <td>58.3412</td>\n",
              "      <td>-9.5757</td>\n",
              "      <td>9.5459</td>\n",
              "      <td>42.6890</td>\n",
              "      <td>168.732</td>\n",
              "      <td>0</td>\n",
              "    </tr>\n",
              "    <tr>\n",
              "      <th>9263</th>\n",
              "      <td>60.1777</td>\n",
              "      <td>22.4696</td>\n",
              "      <td>3.1116</td>\n",
              "      <td>0.2042</td>\n",
              "      <td>0.1071</td>\n",
              "      <td>79.6533</td>\n",
              "      <td>44.1507</td>\n",
              "      <td>14.2770</td>\n",
              "      <td>1.8770</td>\n",
              "      <td>246.783</td>\n",
              "      <td>1</td>\n",
              "    </tr>\n",
              "  </tbody>\n",
              "</table>\n",
              "</div>\n",
              "      <button class=\"colab-df-convert\" onclick=\"convertToInteractive('df-2fc3b9d9-8344-4adf-904b-64fbf7a89973')\"\n",
              "              title=\"Convert this dataframe to an interactive table.\"\n",
              "              style=\"display:none;\">\n",
              "        \n",
              "  <svg xmlns=\"http://www.w3.org/2000/svg\" height=\"24px\"viewBox=\"0 0 24 24\"\n",
              "       width=\"24px\">\n",
              "    <path d=\"M0 0h24v24H0V0z\" fill=\"none\"/>\n",
              "    <path d=\"M18.56 5.44l.94 2.06.94-2.06 2.06-.94-2.06-.94-.94-2.06-.94 2.06-2.06.94zm-11 1L8.5 8.5l.94-2.06 2.06-.94-2.06-.94L8.5 2.5l-.94 2.06-2.06.94zm10 10l.94 2.06.94-2.06 2.06-.94-2.06-.94-.94-2.06-.94 2.06-2.06.94z\"/><path d=\"M17.41 7.96l-1.37-1.37c-.4-.4-.92-.59-1.43-.59-.52 0-1.04.2-1.43.59L10.3 9.45l-7.72 7.72c-.78.78-.78 2.05 0 2.83L4 21.41c.39.39.9.59 1.41.59.51 0 1.02-.2 1.41-.59l7.78-7.78 2.81-2.81c.8-.78.8-2.07 0-2.86zM5.41 20L4 18.59l7.72-7.72 1.47 1.35L5.41 20z\"/>\n",
              "  </svg>\n",
              "      </button>\n",
              "      \n",
              "  <style>\n",
              "    .colab-df-container {\n",
              "      display:flex;\n",
              "      flex-wrap:wrap;\n",
              "      gap: 12px;\n",
              "    }\n",
              "\n",
              "    .colab-df-convert {\n",
              "      background-color: #E8F0FE;\n",
              "      border: none;\n",
              "      border-radius: 50%;\n",
              "      cursor: pointer;\n",
              "      display: none;\n",
              "      fill: #1967D2;\n",
              "      height: 32px;\n",
              "      padding: 0 0 0 0;\n",
              "      width: 32px;\n",
              "    }\n",
              "\n",
              "    .colab-df-convert:hover {\n",
              "      background-color: #E2EBFA;\n",
              "      box-shadow: 0px 1px 2px rgba(60, 64, 67, 0.3), 0px 1px 3px 1px rgba(60, 64, 67, 0.15);\n",
              "      fill: #174EA6;\n",
              "    }\n",
              "\n",
              "    [theme=dark] .colab-df-convert {\n",
              "      background-color: #3B4455;\n",
              "      fill: #D2E3FC;\n",
              "    }\n",
              "\n",
              "    [theme=dark] .colab-df-convert:hover {\n",
              "      background-color: #434B5C;\n",
              "      box-shadow: 0px 1px 3px 1px rgba(0, 0, 0, 0.15);\n",
              "      filter: drop-shadow(0px 1px 2px rgba(0, 0, 0, 0.3));\n",
              "      fill: #FFFFFF;\n",
              "    }\n",
              "  </style>\n",
              "\n",
              "      <script>\n",
              "        const buttonEl =\n",
              "          document.querySelector('#df-2fc3b9d9-8344-4adf-904b-64fbf7a89973 button.colab-df-convert');\n",
              "        buttonEl.style.display =\n",
              "          google.colab.kernel.accessAllowed ? 'block' : 'none';\n",
              "\n",
              "        async function convertToInteractive(key) {\n",
              "          const element = document.querySelector('#df-2fc3b9d9-8344-4adf-904b-64fbf7a89973');\n",
              "          const dataTable =\n",
              "            await google.colab.kernel.invokeFunction('convertToInteractive',\n",
              "                                                     [key], {});\n",
              "          if (!dataTable) return;\n",
              "\n",
              "          const docLinkHtml = 'Like what you see? Visit the ' +\n",
              "            '<a target=\"_blank\" href=https://colab.research.google.com/notebooks/data_table.ipynb>data table notebook</a>'\n",
              "            + ' to learn more about interactive tables.';\n",
              "          element.innerHTML = '';\n",
              "          dataTable['output_type'] = 'display_data';\n",
              "          await google.colab.output.renderOutput(dataTable, element);\n",
              "          const docLink = document.createElement('div');\n",
              "          docLink.innerHTML = docLinkHtml;\n",
              "          element.appendChild(docLink);\n",
              "        }\n",
              "      </script>\n",
              "    </div>\n",
              "  </div>\n",
              "  "
            ]
          },
          "metadata": {},
          "execution_count": 25
        }
      ]
    },
    {
      "cell_type": "markdown",
      "source": [
        "# **Scaling**"
      ],
      "metadata": {
        "id": "rxTD2GsaI3jK"
      }
    },
    {
      "cell_type": "code",
      "source": [
        "print(df1.columns[:-1])  # Features\n",
        "print(\"--------------------------------------------\")\n",
        "print(df1[df1.columns[:-1]])  # Dataset consisting of merely features\n",
        "print(\"--------------------------------------------\")\n",
        "df1[df1.columns[:-1]].values # Takes each data or each row (not columns)"
      ],
      "metadata": {
        "colab": {
          "base_uri": "https://localhost:8080/"
        },
        "id": "K95nSYqZ2crf",
        "outputId": "90dc02cf-b878-4f0c-d9b5-d4f871f3f1bd"
      },
      "execution_count": 33,
      "outputs": [
        {
          "output_type": "stream",
          "name": "stdout",
          "text": [
            "Index(['fLength', 'fWidth', 'fSize', 'fConc', 'fConc1', 'fAsym', 'fM3Long',\n",
            "       'fM3Trans', 'fAlpha', 'fDist'],\n",
            "      dtype='object')\n",
            "--------------------------------------------\n",
            "        fLength    fWidth   fSize   fConc  fConc1     fAsym   fM3Long  \\\n",
            "0       28.7967   16.0021  2.6449  0.3918  0.1982   27.7004   22.0110   \n",
            "1       31.6036   11.7235  2.5185  0.5303  0.3773   26.2722   23.8238   \n",
            "2      162.0520  136.0310  4.0612  0.0374  0.0187  116.7410  -64.8580   \n",
            "3       23.8172    9.5728  2.3385  0.6147  0.3922   27.2107   -6.4633   \n",
            "4       75.1362   30.9205  3.1611  0.3168  0.1832   -5.5277   28.5525   \n",
            "...         ...       ...     ...     ...     ...       ...       ...   \n",
            "19015   21.3846   10.9170  2.6161  0.5857  0.3934   15.2618   11.5245   \n",
            "19016   28.9452    6.7020  2.2672  0.5351  0.2784   37.0816   13.1853   \n",
            "19017   75.4455   47.5305  3.4483  0.1417  0.0549   -9.3561   41.0562   \n",
            "19018  120.5135   76.9018  3.9939  0.0944  0.0683    5.8043  -93.5224   \n",
            "19019  187.1814   53.0014  3.2093  0.2876  0.1539 -167.3125 -168.4558   \n",
            "\n",
            "       fM3Trans   fAlpha     fDist  \n",
            "0       -8.2027  40.0920   81.8828  \n",
            "1       -9.9574   6.3609  205.2610  \n",
            "2      -45.2160  76.9600  256.7880  \n",
            "3       -7.1513  10.4490  116.7370  \n",
            "4       21.8393   4.6480  356.4620  \n",
            "...         ...      ...       ...  \n",
            "19015    2.8766   2.4229  106.8258  \n",
            "19016   -2.9632  86.7975  247.4560  \n",
            "19017   -9.4662  30.2987  256.5166  \n",
            "19018  -63.8389  84.6874  408.3166  \n",
            "19019   31.4755  52.7310  272.3174  \n",
            "\n",
            "[19020 rows x 10 columns]\n",
            "--------------------------------------------\n"
          ]
        },
        {
          "output_type": "execute_result",
          "data": {
            "text/plain": [
              "array([[ 28.7967,  16.0021,   2.6449, ...,  -8.2027,  40.092 ,  81.8828],\n",
              "       [ 31.6036,  11.7235,   2.5185, ...,  -9.9574,   6.3609, 205.261 ],\n",
              "       [162.052 , 136.031 ,   4.0612, ..., -45.216 ,  76.96  , 256.788 ],\n",
              "       ...,\n",
              "       [ 75.4455,  47.5305,   3.4483, ...,  -9.4662,  30.2987, 256.5166],\n",
              "       [120.5135,  76.9018,   3.9939, ..., -63.8389,  84.6874, 408.3166],\n",
              "       [187.1814,  53.0014,   3.2093, ...,  31.4755,  52.731 , 272.3174]])"
            ]
          },
          "metadata": {},
          "execution_count": 33
        }
      ]
    },
    {
      "cell_type": "code",
      "source": [
        "np.reshape(df1[df1.columns[-1]].values, (-1,1))"
      ],
      "metadata": {
        "colab": {
          "base_uri": "https://localhost:8080/"
        },
        "id": "kAACsoGW4DqC",
        "outputId": "2b4c693d-2627-482e-bf65-77040e398bf0"
      },
      "execution_count": 56,
      "outputs": [
        {
          "output_type": "execute_result",
          "data": {
            "text/plain": [
              "array([[1],\n",
              "       [1],\n",
              "       [1],\n",
              "       ...,\n",
              "       [0],\n",
              "       [0],\n",
              "       [0]])"
            ]
          },
          "metadata": {},
          "execution_count": 56
        }
      ]
    },
    {
      "cell_type": "code",
      "source": [
        "from sklearn.preprocessing import StandardScaler\n",
        "# https://scikit-learn.org/stable/modules/generated/sklearn.preprocessing.StandardScaler.html\n",
        "\n",
        "def scale_dataset(df): # Youtube code\n",
        "  X = df[df.columns[:-1]].values\n",
        "  y = df[df.columns[-1]].values\n",
        "\n",
        "  scale = StandardScaler()\n",
        "  X_scaled = scale.fit_transform(X)\n",
        "\n",
        "  data = np.hstack((X_scaled, np.reshape(y, (-1, 1)))) # https://www.geeksforgeeks.org/numpy-hstack-in-python/\n",
        "  return pd.DataFrame(data, columns = df.columns), X_scaled, y\n",
        "\n",
        "def scale_dataset2(df):  # My code\n",
        "  X = df[df.columns[:-1]]\n",
        "  y = df[df.columns[-1]]\n",
        "\n",
        "  scale = StandardScaler()\n",
        "  X_scaled = scale.fit_transform(X)\n",
        "\n",
        "  #-------------------------------------------------------------------------\n",
        "  # From here there are two ways\n",
        "  # data =  pd.DataFrame(X_scaled, columns = cols[:-1])\n",
        "  # data[cols[-1]] = y\n",
        "\n",
        "  X_scaled = pd.DataFrame(X_scaled)\n",
        "  data = pd.concat([X_scaled, y], axis=1)\n",
        "  return data, X_scaled, y\n",
        "\n",
        "scale_dataset(df1)[0].head()"
      ],
      "metadata": {
        "colab": {
          "base_uri": "https://localhost:8080/",
          "height": 206
        },
        "id": "OEPJR2L78d7k",
        "outputId": "2d9b829e-224e-45e1-ed95-c119b920e81f"
      },
      "execution_count": 81,
      "outputs": [
        {
          "output_type": "execute_result",
          "data": {
            "text/plain": [
              "         0         1         2         3         4         5         6   \\\n",
              "0 -0.577226 -0.336804 -0.381130  0.062759 -0.148923  0.541042  0.224818   \n",
              "1 -0.510969 -0.570027 -0.648595  0.820383  1.471776  0.516919  0.260364   \n",
              "2  2.568278  6.205858  2.615783 -1.875883 -1.773241  2.044992 -1.478536   \n",
              "3 -0.694768 -0.687259 -1.029478  1.282069  1.606608  0.532771 -0.333515   \n",
              "4  0.516622  0.476384  0.711157 -0.347506 -0.284660 -0.020200  0.353086   \n",
              "\n",
              "         7         8         9    10  \n",
              "0 -0.405842  0.476816 -1.497866  1.0  \n",
              "1 -0.490094 -0.815418  0.153125  1.0  \n",
              "2 -2.183030  1.889224  0.842635  1.0  \n",
              "3 -0.355359 -0.658804 -1.031463  1.0  \n",
              "4  1.036620 -0.881039  2.176427  1.0  "
            ],
            "text/html": [
              "\n",
              "  <div id=\"df-fdebc4ad-937e-46c5-b214-90b6c9a3fe96\">\n",
              "    <div class=\"colab-df-container\">\n",
              "      <div>\n",
              "<style scoped>\n",
              "    .dataframe tbody tr th:only-of-type {\n",
              "        vertical-align: middle;\n",
              "    }\n",
              "\n",
              "    .dataframe tbody tr th {\n",
              "        vertical-align: top;\n",
              "    }\n",
              "\n",
              "    .dataframe thead th {\n",
              "        text-align: right;\n",
              "    }\n",
              "</style>\n",
              "<table border=\"1\" class=\"dataframe\">\n",
              "  <thead>\n",
              "    <tr style=\"text-align: right;\">\n",
              "      <th></th>\n",
              "      <th>0</th>\n",
              "      <th>1</th>\n",
              "      <th>2</th>\n",
              "      <th>3</th>\n",
              "      <th>4</th>\n",
              "      <th>5</th>\n",
              "      <th>6</th>\n",
              "      <th>7</th>\n",
              "      <th>8</th>\n",
              "      <th>9</th>\n",
              "      <th>10</th>\n",
              "    </tr>\n",
              "  </thead>\n",
              "  <tbody>\n",
              "    <tr>\n",
              "      <th>0</th>\n",
              "      <td>-0.577226</td>\n",
              "      <td>-0.336804</td>\n",
              "      <td>-0.381130</td>\n",
              "      <td>0.062759</td>\n",
              "      <td>-0.148923</td>\n",
              "      <td>0.541042</td>\n",
              "      <td>0.224818</td>\n",
              "      <td>-0.405842</td>\n",
              "      <td>0.476816</td>\n",
              "      <td>-1.497866</td>\n",
              "      <td>1.0</td>\n",
              "    </tr>\n",
              "    <tr>\n",
              "      <th>1</th>\n",
              "      <td>-0.510969</td>\n",
              "      <td>-0.570027</td>\n",
              "      <td>-0.648595</td>\n",
              "      <td>0.820383</td>\n",
              "      <td>1.471776</td>\n",
              "      <td>0.516919</td>\n",
              "      <td>0.260364</td>\n",
              "      <td>-0.490094</td>\n",
              "      <td>-0.815418</td>\n",
              "      <td>0.153125</td>\n",
              "      <td>1.0</td>\n",
              "    </tr>\n",
              "    <tr>\n",
              "      <th>2</th>\n",
              "      <td>2.568278</td>\n",
              "      <td>6.205858</td>\n",
              "      <td>2.615783</td>\n",
              "      <td>-1.875883</td>\n",
              "      <td>-1.773241</td>\n",
              "      <td>2.044992</td>\n",
              "      <td>-1.478536</td>\n",
              "      <td>-2.183030</td>\n",
              "      <td>1.889224</td>\n",
              "      <td>0.842635</td>\n",
              "      <td>1.0</td>\n",
              "    </tr>\n",
              "    <tr>\n",
              "      <th>3</th>\n",
              "      <td>-0.694768</td>\n",
              "      <td>-0.687259</td>\n",
              "      <td>-1.029478</td>\n",
              "      <td>1.282069</td>\n",
              "      <td>1.606608</td>\n",
              "      <td>0.532771</td>\n",
              "      <td>-0.333515</td>\n",
              "      <td>-0.355359</td>\n",
              "      <td>-0.658804</td>\n",
              "      <td>-1.031463</td>\n",
              "      <td>1.0</td>\n",
              "    </tr>\n",
              "    <tr>\n",
              "      <th>4</th>\n",
              "      <td>0.516622</td>\n",
              "      <td>0.476384</td>\n",
              "      <td>0.711157</td>\n",
              "      <td>-0.347506</td>\n",
              "      <td>-0.284660</td>\n",
              "      <td>-0.020200</td>\n",
              "      <td>0.353086</td>\n",
              "      <td>1.036620</td>\n",
              "      <td>-0.881039</td>\n",
              "      <td>2.176427</td>\n",
              "      <td>1.0</td>\n",
              "    </tr>\n",
              "  </tbody>\n",
              "</table>\n",
              "</div>\n",
              "      <button class=\"colab-df-convert\" onclick=\"convertToInteractive('df-fdebc4ad-937e-46c5-b214-90b6c9a3fe96')\"\n",
              "              title=\"Convert this dataframe to an interactive table.\"\n",
              "              style=\"display:none;\">\n",
              "        \n",
              "  <svg xmlns=\"http://www.w3.org/2000/svg\" height=\"24px\"viewBox=\"0 0 24 24\"\n",
              "       width=\"24px\">\n",
              "    <path d=\"M0 0h24v24H0V0z\" fill=\"none\"/>\n",
              "    <path d=\"M18.56 5.44l.94 2.06.94-2.06 2.06-.94-2.06-.94-.94-2.06-.94 2.06-2.06.94zm-11 1L8.5 8.5l.94-2.06 2.06-.94-2.06-.94L8.5 2.5l-.94 2.06-2.06.94zm10 10l.94 2.06.94-2.06 2.06-.94-2.06-.94-.94-2.06-.94 2.06-2.06.94z\"/><path d=\"M17.41 7.96l-1.37-1.37c-.4-.4-.92-.59-1.43-.59-.52 0-1.04.2-1.43.59L10.3 9.45l-7.72 7.72c-.78.78-.78 2.05 0 2.83L4 21.41c.39.39.9.59 1.41.59.51 0 1.02-.2 1.41-.59l7.78-7.78 2.81-2.81c.8-.78.8-2.07 0-2.86zM5.41 20L4 18.59l7.72-7.72 1.47 1.35L5.41 20z\"/>\n",
              "  </svg>\n",
              "      </button>\n",
              "      \n",
              "  <style>\n",
              "    .colab-df-container {\n",
              "      display:flex;\n",
              "      flex-wrap:wrap;\n",
              "      gap: 12px;\n",
              "    }\n",
              "\n",
              "    .colab-df-convert {\n",
              "      background-color: #E8F0FE;\n",
              "      border: none;\n",
              "      border-radius: 50%;\n",
              "      cursor: pointer;\n",
              "      display: none;\n",
              "      fill: #1967D2;\n",
              "      height: 32px;\n",
              "      padding: 0 0 0 0;\n",
              "      width: 32px;\n",
              "    }\n",
              "\n",
              "    .colab-df-convert:hover {\n",
              "      background-color: #E2EBFA;\n",
              "      box-shadow: 0px 1px 2px rgba(60, 64, 67, 0.3), 0px 1px 3px 1px rgba(60, 64, 67, 0.15);\n",
              "      fill: #174EA6;\n",
              "    }\n",
              "\n",
              "    [theme=dark] .colab-df-convert {\n",
              "      background-color: #3B4455;\n",
              "      fill: #D2E3FC;\n",
              "    }\n",
              "\n",
              "    [theme=dark] .colab-df-convert:hover {\n",
              "      background-color: #434B5C;\n",
              "      box-shadow: 0px 1px 3px 1px rgba(0, 0, 0, 0.15);\n",
              "      filter: drop-shadow(0px 1px 2px rgba(0, 0, 0, 0.3));\n",
              "      fill: #FFFFFF;\n",
              "    }\n",
              "  </style>\n",
              "\n",
              "      <script>\n",
              "        const buttonEl =\n",
              "          document.querySelector('#df-fdebc4ad-937e-46c5-b214-90b6c9a3fe96 button.colab-df-convert');\n",
              "        buttonEl.style.display =\n",
              "          google.colab.kernel.accessAllowed ? 'block' : 'none';\n",
              "\n",
              "        async function convertToInteractive(key) {\n",
              "          const element = document.querySelector('#df-fdebc4ad-937e-46c5-b214-90b6c9a3fe96');\n",
              "          const dataTable =\n",
              "            await google.colab.kernel.invokeFunction('convertToInteractive',\n",
              "                                                     [key], {});\n",
              "          if (!dataTable) return;\n",
              "\n",
              "          const docLinkHtml = 'Like what you see? Visit the ' +\n",
              "            '<a target=\"_blank\" href=https://colab.research.google.com/notebooks/data_table.ipynb>data table notebook</a>'\n",
              "            + ' to learn more about interactive tables.';\n",
              "          element.innerHTML = '';\n",
              "          dataTable['output_type'] = 'display_data';\n",
              "          await google.colab.output.renderOutput(dataTable, element);\n",
              "          const docLink = document.createElement('div');\n",
              "          docLink.innerHTML = docLinkHtml;\n",
              "          element.appendChild(docLink);\n",
              "        }\n",
              "      </script>\n",
              "    </div>\n",
              "  </div>\n",
              "  "
            ]
          },
          "metadata": {},
          "execution_count": 81
        }
      ]
    },
    {
      "cell_type": "markdown",
      "source": [
        "# **Over-sampling**\n"
      ],
      "metadata": {
        "id": "z0FTjWQgI_uQ"
      }
    },
    {
      "cell_type": "code",
      "source": [
        "print(\"-----------------------------Train-----------------------------\")\n",
        "print(len(train[train[\"class\"]==1]))  # gamma\n",
        "print(len(train[train[\"class\"]==0]))  # hadron\n",
        "print(\"-----------------------------Validation-----------------------------\")\n",
        "print(len(validation[validation[\"class\"]==1]))  # gamma\n",
        "print(len(validation[validation[\"class\"]==0]))  # hadron"
      ],
      "metadata": {
        "colab": {
          "base_uri": "https://localhost:8080/"
        },
        "id": "MktK7Jx-JEuQ",
        "outputId": "33ba90e5-8a2d-42dd-892c-65a2bed90535"
      },
      "execution_count": 79,
      "outputs": [
        {
          "output_type": "stream",
          "name": "stdout",
          "text": [
            "-----------------------------Train-----------------------------\n",
            "9827\n",
            "5389\n",
            "-----------------------------Validation-----------------------------\n",
            "1228\n",
            "674\n"
          ]
        }
      ]
    },
    {
      "cell_type": "markdown",
      "source": [
        "**Having extremely more data with output result of \"gamma\" rather than \"hadron\" can be a problem for our model. To handle this, we will use oversampling.**\n",
        "<hr>\n",
        "<br> What is oversampling and undersampling? \n",
        "<br> Oversampling video: <a> https://www.youtube.com/watch?v=P9328wVm6ao </a>\n",
        "<br> Undersampling video: <a> https://www.youtube.com/watch?v=VXiVSX9A_Fs </a>\n",
        "<br> <br>\n",
        "Random oversampling involves randomly selecting examples from the minority class, with replacement, and adding them to the training dataset. Random undersampling involves randomly selecting examples from the majority class and deleting them from the training dataset.\n",
        "\n",
        "<h2> Oversampling - Generating copies of minor class </h2>\n",
        "\n",
        "1.   Advantages: No data loss, better performance\n",
        "2.   Disadvantage: Increases the possibility of overfitting"
      ],
      "metadata": {
        "id": "7qd-vOo1Jte2"
      }
    },
    {
      "cell_type": "code",
      "source": [
        "# We'll change our scale_dataset function\n",
        "from imblearn.over_sampling import RandomOverSampler\n",
        "\n",
        "def scale_dataset(df, oversample = False): \n",
        "  X = df[df.columns[:-1]].values\n",
        "  y = df[df.columns[-1]].values\n",
        "  \n",
        "  scale = StandardScaler()\n",
        "  X_scaled = scale.fit_transform(X)\n",
        "\n",
        "  if oversample:\n",
        "    ros = RandomOverSampler()\n",
        "    X_scaled, y = ros.fit_resample(X_scaled, y)\n",
        "\n",
        "  data = np.hstack((X_scaled, np.reshape(y, (-1, 1)))) \n",
        "  return pd.DataFrame(data, columns = df.columns), X_scaled, y\n",
        "\n",
        "\n",
        "valid_sampled, X_valid_sampled, y_valid_sampled = scale_dataset(validation)\n",
        "test_sampled, X_test_sampled, y_test_sampled = scale_dataset(test)\n",
        "train_sampled, X_train_sampled, y_train_sampled = scale_dataset(train, oversample = True)\n",
        "train_sampled.head()"
      ],
      "metadata": {
        "colab": {
          "base_uri": "https://localhost:8080/",
          "height": 206
        },
        "id": "452_quI8J8qL",
        "outputId": "ec4865be-28c3-4d6d-cf1b-89b5c75acf6d"
      },
      "execution_count": 91,
      "outputs": [
        {
          "output_type": "execute_result",
          "data": {
            "text/plain": [
              "    fLength    fWidth     fSize     fConc    fConc1     fAsym   fM3Long  \\\n",
              "0 -0.421625 -0.206537 -0.004347 -0.649506 -0.657346  0.113321  0.303392   \n",
              "1 -0.255463 -0.241405 -0.086183 -0.398583 -0.537004 -0.363532 -0.724956   \n",
              "2 -0.752373 -0.385576 -0.470624  0.382066  0.173284  0.106214 -0.401584   \n",
              "3 -0.268287 -0.164841  0.187027 -0.175541 -0.201314  1.059661 -0.390842   \n",
              "4  0.162011  0.017626  0.609108 -0.967670 -0.977655  1.419787  0.661192   \n",
              "\n",
              "   fM3Trans    fAlpha     fDist  class  \n",
              "0  0.612847  0.532614 -0.720412    1.0  \n",
              "1 -0.528430  0.164873  0.387647    0.0  \n",
              "2 -0.491910 -0.882338 -0.442082    1.0  \n",
              "3  0.444918  0.568688 -0.331944    0.0  \n",
              "4  0.672494 -0.994230  0.710423    1.0  "
            ],
            "text/html": [
              "\n",
              "  <div id=\"df-e7db9903-690e-4fdf-a78a-32795331708c\">\n",
              "    <div class=\"colab-df-container\">\n",
              "      <div>\n",
              "<style scoped>\n",
              "    .dataframe tbody tr th:only-of-type {\n",
              "        vertical-align: middle;\n",
              "    }\n",
              "\n",
              "    .dataframe tbody tr th {\n",
              "        vertical-align: top;\n",
              "    }\n",
              "\n",
              "    .dataframe thead th {\n",
              "        text-align: right;\n",
              "    }\n",
              "</style>\n",
              "<table border=\"1\" class=\"dataframe\">\n",
              "  <thead>\n",
              "    <tr style=\"text-align: right;\">\n",
              "      <th></th>\n",
              "      <th>fLength</th>\n",
              "      <th>fWidth</th>\n",
              "      <th>fSize</th>\n",
              "      <th>fConc</th>\n",
              "      <th>fConc1</th>\n",
              "      <th>fAsym</th>\n",
              "      <th>fM3Long</th>\n",
              "      <th>fM3Trans</th>\n",
              "      <th>fAlpha</th>\n",
              "      <th>fDist</th>\n",
              "      <th>class</th>\n",
              "    </tr>\n",
              "  </thead>\n",
              "  <tbody>\n",
              "    <tr>\n",
              "      <th>0</th>\n",
              "      <td>-0.421625</td>\n",
              "      <td>-0.206537</td>\n",
              "      <td>-0.004347</td>\n",
              "      <td>-0.649506</td>\n",
              "      <td>-0.657346</td>\n",
              "      <td>0.113321</td>\n",
              "      <td>0.303392</td>\n",
              "      <td>0.612847</td>\n",
              "      <td>0.532614</td>\n",
              "      <td>-0.720412</td>\n",
              "      <td>1.0</td>\n",
              "    </tr>\n",
              "    <tr>\n",
              "      <th>1</th>\n",
              "      <td>-0.255463</td>\n",
              "      <td>-0.241405</td>\n",
              "      <td>-0.086183</td>\n",
              "      <td>-0.398583</td>\n",
              "      <td>-0.537004</td>\n",
              "      <td>-0.363532</td>\n",
              "      <td>-0.724956</td>\n",
              "      <td>-0.528430</td>\n",
              "      <td>0.164873</td>\n",
              "      <td>0.387647</td>\n",
              "      <td>0.0</td>\n",
              "    </tr>\n",
              "    <tr>\n",
              "      <th>2</th>\n",
              "      <td>-0.752373</td>\n",
              "      <td>-0.385576</td>\n",
              "      <td>-0.470624</td>\n",
              "      <td>0.382066</td>\n",
              "      <td>0.173284</td>\n",
              "      <td>0.106214</td>\n",
              "      <td>-0.401584</td>\n",
              "      <td>-0.491910</td>\n",
              "      <td>-0.882338</td>\n",
              "      <td>-0.442082</td>\n",
              "      <td>1.0</td>\n",
              "    </tr>\n",
              "    <tr>\n",
              "      <th>3</th>\n",
              "      <td>-0.268287</td>\n",
              "      <td>-0.164841</td>\n",
              "      <td>0.187027</td>\n",
              "      <td>-0.175541</td>\n",
              "      <td>-0.201314</td>\n",
              "      <td>1.059661</td>\n",
              "      <td>-0.390842</td>\n",
              "      <td>0.444918</td>\n",
              "      <td>0.568688</td>\n",
              "      <td>-0.331944</td>\n",
              "      <td>0.0</td>\n",
              "    </tr>\n",
              "    <tr>\n",
              "      <th>4</th>\n",
              "      <td>0.162011</td>\n",
              "      <td>0.017626</td>\n",
              "      <td>0.609108</td>\n",
              "      <td>-0.967670</td>\n",
              "      <td>-0.977655</td>\n",
              "      <td>1.419787</td>\n",
              "      <td>0.661192</td>\n",
              "      <td>0.672494</td>\n",
              "      <td>-0.994230</td>\n",
              "      <td>0.710423</td>\n",
              "      <td>1.0</td>\n",
              "    </tr>\n",
              "  </tbody>\n",
              "</table>\n",
              "</div>\n",
              "      <button class=\"colab-df-convert\" onclick=\"convertToInteractive('df-e7db9903-690e-4fdf-a78a-32795331708c')\"\n",
              "              title=\"Convert this dataframe to an interactive table.\"\n",
              "              style=\"display:none;\">\n",
              "        \n",
              "  <svg xmlns=\"http://www.w3.org/2000/svg\" height=\"24px\"viewBox=\"0 0 24 24\"\n",
              "       width=\"24px\">\n",
              "    <path d=\"M0 0h24v24H0V0z\" fill=\"none\"/>\n",
              "    <path d=\"M18.56 5.44l.94 2.06.94-2.06 2.06-.94-2.06-.94-.94-2.06-.94 2.06-2.06.94zm-11 1L8.5 8.5l.94-2.06 2.06-.94-2.06-.94L8.5 2.5l-.94 2.06-2.06.94zm10 10l.94 2.06.94-2.06 2.06-.94-2.06-.94-.94-2.06-.94 2.06-2.06.94z\"/><path d=\"M17.41 7.96l-1.37-1.37c-.4-.4-.92-.59-1.43-.59-.52 0-1.04.2-1.43.59L10.3 9.45l-7.72 7.72c-.78.78-.78 2.05 0 2.83L4 21.41c.39.39.9.59 1.41.59.51 0 1.02-.2 1.41-.59l7.78-7.78 2.81-2.81c.8-.78.8-2.07 0-2.86zM5.41 20L4 18.59l7.72-7.72 1.47 1.35L5.41 20z\"/>\n",
              "  </svg>\n",
              "      </button>\n",
              "      \n",
              "  <style>\n",
              "    .colab-df-container {\n",
              "      display:flex;\n",
              "      flex-wrap:wrap;\n",
              "      gap: 12px;\n",
              "    }\n",
              "\n",
              "    .colab-df-convert {\n",
              "      background-color: #E8F0FE;\n",
              "      border: none;\n",
              "      border-radius: 50%;\n",
              "      cursor: pointer;\n",
              "      display: none;\n",
              "      fill: #1967D2;\n",
              "      height: 32px;\n",
              "      padding: 0 0 0 0;\n",
              "      width: 32px;\n",
              "    }\n",
              "\n",
              "    .colab-df-convert:hover {\n",
              "      background-color: #E2EBFA;\n",
              "      box-shadow: 0px 1px 2px rgba(60, 64, 67, 0.3), 0px 1px 3px 1px rgba(60, 64, 67, 0.15);\n",
              "      fill: #174EA6;\n",
              "    }\n",
              "\n",
              "    [theme=dark] .colab-df-convert {\n",
              "      background-color: #3B4455;\n",
              "      fill: #D2E3FC;\n",
              "    }\n",
              "\n",
              "    [theme=dark] .colab-df-convert:hover {\n",
              "      background-color: #434B5C;\n",
              "      box-shadow: 0px 1px 3px 1px rgba(0, 0, 0, 0.15);\n",
              "      filter: drop-shadow(0px 1px 2px rgba(0, 0, 0, 0.3));\n",
              "      fill: #FFFFFF;\n",
              "    }\n",
              "  </style>\n",
              "\n",
              "      <script>\n",
              "        const buttonEl =\n",
              "          document.querySelector('#df-e7db9903-690e-4fdf-a78a-32795331708c button.colab-df-convert');\n",
              "        buttonEl.style.display =\n",
              "          google.colab.kernel.accessAllowed ? 'block' : 'none';\n",
              "\n",
              "        async function convertToInteractive(key) {\n",
              "          const element = document.querySelector('#df-e7db9903-690e-4fdf-a78a-32795331708c');\n",
              "          const dataTable =\n",
              "            await google.colab.kernel.invokeFunction('convertToInteractive',\n",
              "                                                     [key], {});\n",
              "          if (!dataTable) return;\n",
              "\n",
              "          const docLinkHtml = 'Like what you see? Visit the ' +\n",
              "            '<a target=\"_blank\" href=https://colab.research.google.com/notebooks/data_table.ipynb>data table notebook</a>'\n",
              "            + ' to learn more about interactive tables.';\n",
              "          element.innerHTML = '';\n",
              "          dataTable['output_type'] = 'display_data';\n",
              "          await google.colab.output.renderOutput(dataTable, element);\n",
              "          const docLink = document.createElement('div');\n",
              "          docLink.innerHTML = docLinkHtml;\n",
              "          element.appendChild(docLink);\n",
              "        }\n",
              "      </script>\n",
              "    </div>\n",
              "  </div>\n",
              "  "
            ]
          },
          "metadata": {},
          "execution_count": 91
        }
      ]
    },
    {
      "cell_type": "code",
      "source": [
        "print(\"-----------------------------Train-----------------------------\")\n",
        "print(len(train[train[\"class\"]==1]))  # gamma\n",
        "print(len(train[train[\"class\"]==0]))  # hadron\n",
        "print(\"-----------------------------Train Sampled-----------------------------\")\n",
        "print(len(train_sampled[train_sampled[\"class\"]==1]))  # gamma\n",
        "print(len(train_sampled[train_sampled[\"class\"]==0]))  # hadron"
      ],
      "metadata": {
        "colab": {
          "base_uri": "https://localhost:8080/"
        },
        "id": "udRSWvCVPv7x",
        "outputId": "3c413e0e-078c-45e0-814e-6447d7910c10"
      },
      "execution_count": 92,
      "outputs": [
        {
          "output_type": "stream",
          "name": "stdout",
          "text": [
            "-----------------------------Train-----------------------------\n",
            "9827\n",
            "5389\n",
            "-----------------------------Train Sampled-----------------------------\n",
            "9827\n",
            "9827\n"
          ]
        }
      ]
    },
    {
      "cell_type": "markdown",
      "source": [
        "<h1> 3. Models </h1>"
      ],
      "metadata": {
        "id": "mDofiz3EXfAU"
      }
    },
    {
      "cell_type": "markdown",
      "source": [
        "## **KNN** <br>\n",
        "It is supervised learning algorithm which can be used for both classification and regression problems."
      ],
      "metadata": {
        "id": "QfTD9oqtXmYj"
      }
    },
    {
      "cell_type": "code",
      "source": [
        "# KNeighborsClassifier -->  https://scikit-learn.org/stable/modules/generated/sklearn.neighbors.KNeighborsClassifier.html\n",
        "\n",
        "from sklearn.neighbors import KNeighborsClassifier\n",
        "from sklearn.metrics import classification_report\n",
        "from sklearn.metrics import accuracy_score"
      ],
      "metadata": {
        "id": "stR72vBFXlj2"
      },
      "execution_count": 100,
      "outputs": []
    },
    {
      "cell_type": "code",
      "source": [
        "knn_model = KNeighborsClassifier(n_neighbors = 10)\n",
        "knn_model.fit(X_train_sampled, y_train_sampled)\n",
        "y_pred = knn_model.predict(X_test_sampled)\n",
        "y_pred"
      ],
      "metadata": {
        "id": "CBYW6GcbYUsp",
        "outputId": "88d1bf70-d5ce-4d86-e24e-9b408c19115b",
        "colab": {
          "base_uri": "https://localhost:8080/"
        }
      },
      "execution_count": 107,
      "outputs": [
        {
          "output_type": "execute_result",
          "data": {
            "text/plain": [
              "array([1, 1, 0, ..., 1, 1, 0])"
            ]
          },
          "metadata": {},
          "execution_count": 107
        }
      ]
    },
    {
      "cell_type": "code",
      "source": [
        "print(classification_report(y_true = y_test_sampled, y_pred = y_pred))\n",
        "print(\"----------------------------------------------------------------\")\n",
        "print(accuracy_score(y_test_sampled, y_pred))\n",
        "\n",
        "# As data is inbalanced, its accuracy is low"
      ],
      "metadata": {
        "id": "ju6gDikOZaau",
        "outputId": "063ae5cb-16b4-47dd-9d9d-97db132ab897",
        "colab": {
          "base_uri": "https://localhost:8080/"
        }
      },
      "execution_count": 108,
      "outputs": [
        {
          "output_type": "stream",
          "name": "stdout",
          "text": [
            "              precision    recall  f1-score   support\n",
            "\n",
            "           0       0.73      0.75      0.74       625\n",
            "           1       0.88      0.86      0.87      1277\n",
            "\n",
            "    accuracy                           0.83      1902\n",
            "   macro avg       0.80      0.81      0.81      1902\n",
            "weighted avg       0.83      0.83      0.83      1902\n",
            "\n",
            "----------------------------------------------------------------\n",
            "0.8264984227129337\n"
          ]
        }
      ]
    },
    {
      "cell_type": "markdown",
      "source": [],
      "metadata": {
        "id": "2WiHlVDRr5nm"
      }
    },
    {
      "cell_type": "code",
      "source": [],
      "metadata": {
        "id": "bL9zgus7bGb2"
      },
      "execution_count": null,
      "outputs": []
    }
  ]
}